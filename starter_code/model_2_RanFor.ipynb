{
 "cells": [
  {
   "cell_type": "code",
   "execution_count": null,
   "metadata": {},
   "outputs": [],
   "source": [
    "# Update sklearn to prevent version mismatches\n",
    "!pip install sklearn --upgrade"
   ]
  },
  {
   "cell_type": "code",
   "execution_count": null,
   "metadata": {},
   "outputs": [],
   "source": [
    "# install joblib. This will be used to save your model. \n",
    "# Restart your kernel after installing \n",
    "!pip install joblib"
   ]
  },
  {
   "cell_type": "code",
   "execution_count": 1,
   "metadata": {},
   "outputs": [],
   "source": [
    "import pandas as pd\n",
    "import matplotlib.pyplot as plt\n",
    "import numpy as np"
   ]
  },
  {
   "cell_type": "markdown",
   "metadata": {},
   "source": [
    "# Read the CSV and Perform Basic Data Cleaning"
   ]
  },
  {
   "cell_type": "code",
   "execution_count": 10,
   "metadata": {},
   "outputs": [
    {
     "data": {
      "text/html": [
       "<div>\n",
       "<style scoped>\n",
       "    .dataframe tbody tr th:only-of-type {\n",
       "        vertical-align: middle;\n",
       "    }\n",
       "\n",
       "    .dataframe tbody tr th {\n",
       "        vertical-align: top;\n",
       "    }\n",
       "\n",
       "    .dataframe thead th {\n",
       "        text-align: right;\n",
       "    }\n",
       "</style>\n",
       "<table border=\"1\" class=\"dataframe\">\n",
       "  <thead>\n",
       "    <tr style=\"text-align: right;\">\n",
       "      <th></th>\n",
       "      <th>koi_disposition</th>\n",
       "      <th>koi_fpflag_nt</th>\n",
       "      <th>koi_fpflag_ss</th>\n",
       "      <th>koi_fpflag_co</th>\n",
       "      <th>koi_fpflag_ec</th>\n",
       "      <th>koi_period</th>\n",
       "      <th>koi_period_err1</th>\n",
       "      <th>koi_period_err2</th>\n",
       "      <th>koi_time0bk</th>\n",
       "      <th>koi_time0bk_err1</th>\n",
       "      <th>...</th>\n",
       "      <th>koi_steff_err2</th>\n",
       "      <th>koi_slogg</th>\n",
       "      <th>koi_slogg_err1</th>\n",
       "      <th>koi_slogg_err2</th>\n",
       "      <th>koi_srad</th>\n",
       "      <th>koi_srad_err1</th>\n",
       "      <th>koi_srad_err2</th>\n",
       "      <th>ra</th>\n",
       "      <th>dec</th>\n",
       "      <th>koi_kepmag</th>\n",
       "    </tr>\n",
       "  </thead>\n",
       "  <tbody>\n",
       "    <tr>\n",
       "      <th>0</th>\n",
       "      <td>CONFIRMED</td>\n",
       "      <td>0</td>\n",
       "      <td>0</td>\n",
       "      <td>0</td>\n",
       "      <td>0</td>\n",
       "      <td>54.418383</td>\n",
       "      <td>2.479000e-04</td>\n",
       "      <td>-2.479000e-04</td>\n",
       "      <td>162.513840</td>\n",
       "      <td>0.003520</td>\n",
       "      <td>...</td>\n",
       "      <td>-81</td>\n",
       "      <td>4.467</td>\n",
       "      <td>0.064</td>\n",
       "      <td>-0.096</td>\n",
       "      <td>0.927</td>\n",
       "      <td>0.105</td>\n",
       "      <td>-0.061</td>\n",
       "      <td>291.93423</td>\n",
       "      <td>48.141651</td>\n",
       "      <td>15.347</td>\n",
       "    </tr>\n",
       "    <tr>\n",
       "      <th>1</th>\n",
       "      <td>FALSE POSITIVE</td>\n",
       "      <td>0</td>\n",
       "      <td>1</td>\n",
       "      <td>0</td>\n",
       "      <td>0</td>\n",
       "      <td>19.899140</td>\n",
       "      <td>1.490000e-05</td>\n",
       "      <td>-1.490000e-05</td>\n",
       "      <td>175.850252</td>\n",
       "      <td>0.000581</td>\n",
       "      <td>...</td>\n",
       "      <td>-176</td>\n",
       "      <td>4.544</td>\n",
       "      <td>0.044</td>\n",
       "      <td>-0.176</td>\n",
       "      <td>0.868</td>\n",
       "      <td>0.233</td>\n",
       "      <td>-0.078</td>\n",
       "      <td>297.00482</td>\n",
       "      <td>48.134129</td>\n",
       "      <td>15.436</td>\n",
       "    </tr>\n",
       "    <tr>\n",
       "      <th>2</th>\n",
       "      <td>FALSE POSITIVE</td>\n",
       "      <td>0</td>\n",
       "      <td>1</td>\n",
       "      <td>0</td>\n",
       "      <td>0</td>\n",
       "      <td>1.736952</td>\n",
       "      <td>2.630000e-07</td>\n",
       "      <td>-2.630000e-07</td>\n",
       "      <td>170.307565</td>\n",
       "      <td>0.000115</td>\n",
       "      <td>...</td>\n",
       "      <td>-174</td>\n",
       "      <td>4.564</td>\n",
       "      <td>0.053</td>\n",
       "      <td>-0.168</td>\n",
       "      <td>0.791</td>\n",
       "      <td>0.201</td>\n",
       "      <td>-0.067</td>\n",
       "      <td>285.53461</td>\n",
       "      <td>48.285210</td>\n",
       "      <td>15.597</td>\n",
       "    </tr>\n",
       "    <tr>\n",
       "      <th>3</th>\n",
       "      <td>CONFIRMED</td>\n",
       "      <td>0</td>\n",
       "      <td>0</td>\n",
       "      <td>0</td>\n",
       "      <td>0</td>\n",
       "      <td>2.525592</td>\n",
       "      <td>3.760000e-06</td>\n",
       "      <td>-3.760000e-06</td>\n",
       "      <td>171.595550</td>\n",
       "      <td>0.001130</td>\n",
       "      <td>...</td>\n",
       "      <td>-211</td>\n",
       "      <td>4.438</td>\n",
       "      <td>0.070</td>\n",
       "      <td>-0.210</td>\n",
       "      <td>1.046</td>\n",
       "      <td>0.334</td>\n",
       "      <td>-0.133</td>\n",
       "      <td>288.75488</td>\n",
       "      <td>48.226200</td>\n",
       "      <td>15.509</td>\n",
       "    </tr>\n",
       "    <tr>\n",
       "      <th>4</th>\n",
       "      <td>CONFIRMED</td>\n",
       "      <td>0</td>\n",
       "      <td>0</td>\n",
       "      <td>0</td>\n",
       "      <td>0</td>\n",
       "      <td>4.134435</td>\n",
       "      <td>1.050000e-05</td>\n",
       "      <td>-1.050000e-05</td>\n",
       "      <td>172.979370</td>\n",
       "      <td>0.001900</td>\n",
       "      <td>...</td>\n",
       "      <td>-232</td>\n",
       "      <td>4.486</td>\n",
       "      <td>0.054</td>\n",
       "      <td>-0.229</td>\n",
       "      <td>0.972</td>\n",
       "      <td>0.315</td>\n",
       "      <td>-0.105</td>\n",
       "      <td>296.28613</td>\n",
       "      <td>48.224670</td>\n",
       "      <td>15.714</td>\n",
       "    </tr>\n",
       "  </tbody>\n",
       "</table>\n",
       "<p>5 rows × 41 columns</p>\n",
       "</div>"
      ],
      "text/plain": [
       "  koi_disposition  koi_fpflag_nt  koi_fpflag_ss  koi_fpflag_co  koi_fpflag_ec  \\\n",
       "0       CONFIRMED              0              0              0              0   \n",
       "1  FALSE POSITIVE              0              1              0              0   \n",
       "2  FALSE POSITIVE              0              1              0              0   \n",
       "3       CONFIRMED              0              0              0              0   \n",
       "4       CONFIRMED              0              0              0              0   \n",
       "\n",
       "   koi_period  koi_period_err1  koi_period_err2  koi_time0bk  \\\n",
       "0   54.418383     2.479000e-04    -2.479000e-04   162.513840   \n",
       "1   19.899140     1.490000e-05    -1.490000e-05   175.850252   \n",
       "2    1.736952     2.630000e-07    -2.630000e-07   170.307565   \n",
       "3    2.525592     3.760000e-06    -3.760000e-06   171.595550   \n",
       "4    4.134435     1.050000e-05    -1.050000e-05   172.979370   \n",
       "\n",
       "   koi_time0bk_err1  ...  koi_steff_err2  koi_slogg  koi_slogg_err1  \\\n",
       "0          0.003520  ...             -81      4.467           0.064   \n",
       "1          0.000581  ...            -176      4.544           0.044   \n",
       "2          0.000115  ...            -174      4.564           0.053   \n",
       "3          0.001130  ...            -211      4.438           0.070   \n",
       "4          0.001900  ...            -232      4.486           0.054   \n",
       "\n",
       "   koi_slogg_err2  koi_srad  koi_srad_err1  koi_srad_err2         ra  \\\n",
       "0          -0.096     0.927          0.105         -0.061  291.93423   \n",
       "1          -0.176     0.868          0.233         -0.078  297.00482   \n",
       "2          -0.168     0.791          0.201         -0.067  285.53461   \n",
       "3          -0.210     1.046          0.334         -0.133  288.75488   \n",
       "4          -0.229     0.972          0.315         -0.105  296.28613   \n",
       "\n",
       "         dec  koi_kepmag  \n",
       "0  48.141651      15.347  \n",
       "1  48.134129      15.436  \n",
       "2  48.285210      15.597  \n",
       "3  48.226200      15.509  \n",
       "4  48.224670      15.714  \n",
       "\n",
       "[5 rows x 41 columns]"
      ]
     },
     "execution_count": 10,
     "metadata": {},
     "output_type": "execute_result"
    }
   ],
   "source": [
    "df = pd.read_csv(\"exoplanet_data.csv\")\n",
    "# Drop the null columns where all values are null\n",
    "df = df.dropna(axis='columns', how='all')\n",
    "# Drop the null rows\n",
    "df = df.dropna()\n",
    "df.head()"
   ]
  },
  {
   "cell_type": "markdown",
   "metadata": {},
   "source": [
    "# Select your features (columns)"
   ]
  },
  {
   "cell_type": "code",
   "execution_count": 11,
   "metadata": {},
   "outputs": [],
   "source": [
    "# Set features. This will also be used as your x values.\n",
    "selected_features=df.drop(\"koi_disposition\", axis=1)\n",
    "X = selected_features\n",
    "y=df[\"koi_disposition\"]"
   ]
  },
  {
   "cell_type": "markdown",
   "metadata": {},
   "source": [
    "# Create a Train Test Split\n",
    "\n",
    "Use `koi_disposition` for the y values"
   ]
  },
  {
   "cell_type": "code",
   "execution_count": 43,
   "metadata": {},
   "outputs": [],
   "source": [
    "from sklearn.model_selection import train_test_split\n",
    "\n",
    "X_train, X_test, y_train, y_test = train_test_split(X, y, random_state=42)"
   ]
  },
  {
   "cell_type": "markdown",
   "metadata": {},
   "source": [
    "# Pre-processing\n",
    "\n",
    "Scale the data using the MinMaxScaler and perform some feature selection"
   ]
  },
  {
   "cell_type": "code",
   "execution_count": 44,
   "metadata": {},
   "outputs": [],
   "source": [
    "# Scale your data\n",
    "from sklearn.preprocessing import StandardScaler\n",
    "X_scaler = StandardScaler().fit(X_train)\n",
    "# y_scaler = StandardScaler().fit(y_train)\n",
    "\n",
    "X_train_scaled = X_scaler.transform(X_train)\n",
    "X_test_scaled = X_scaler.transform(X_test)\n",
    "# y_train_scaled = y_scaler.transform(y_train)\n",
    "# y_test_scaled = y_scaler.transform(y_test)"
   ]
  },
  {
   "cell_type": "markdown",
   "metadata": {},
   "source": [
    "## Random Forest"
   ]
  },
  {
   "cell_type": "code",
   "execution_count": 45,
   "metadata": {},
   "outputs": [
    {
     "data": {
      "text/plain": [
       "RandomForestClassifier(bootstrap=True, ccp_alpha=0.0, class_weight=None,\n",
       "                       criterion='gini', max_depth=None, max_features='auto',\n",
       "                       max_leaf_nodes=None, max_samples=None,\n",
       "                       min_impurity_decrease=0.0, min_impurity_split=None,\n",
       "                       min_samples_leaf=1, min_samples_split=2,\n",
       "                       min_weight_fraction_leaf=0.0, n_estimators=200,\n",
       "                       n_jobs=None, oob_score=False, random_state=None,\n",
       "                       verbose=0, warm_start=False)"
      ]
     },
     "execution_count": 45,
     "metadata": {},
     "output_type": "execute_result"
    }
   ],
   "source": [
    "from sklearn.ensemble import RandomForestClassifier\n",
    "rf = RandomForestClassifier(n_estimators=200)\n",
    "rf = rf.fit(X_train_scaled, y_train)\n",
    "y_pred = rf.predict(X_test_scaled)\n",
    "rf"
   ]
  },
  {
   "cell_type": "code",
   "execution_count": 46,
   "metadata": {},
   "outputs": [
    {
     "data": {
      "text/plain": [
       "1.0"
      ]
     },
     "execution_count": 46,
     "metadata": {},
     "output_type": "execute_result"
    }
   ],
   "source": [
    "rf.score(X_train_scaled, y_train)"
   ]
  },
  {
   "cell_type": "markdown",
   "metadata": {},
   "source": [
    "# generates best result"
   ]
  },
  {
   "cell_type": "code",
   "execution_count": 47,
   "metadata": {},
   "outputs": [
    {
     "data": {
      "text/plain": [
       "0.8975972540045767"
      ]
     },
     "execution_count": 47,
     "metadata": {},
     "output_type": "execute_result"
    }
   ],
   "source": [
    "rf.score(X_test_scaled, y_test)"
   ]
  },
  {
   "cell_type": "code",
   "execution_count": 9,
   "metadata": {},
   "outputs": [
    {
     "data": {
      "text/plain": [
       "RandomForestClassifier(bootstrap=True, ccp_alpha=0.0, class_weight=None,\n",
       "                       criterion='gini', max_depth=None, max_features='auto',\n",
       "                       max_leaf_nodes=None, max_samples=None,\n",
       "                       min_impurity_decrease=0.0, min_impurity_split=None,\n",
       "                       min_samples_leaf=1, min_samples_split=2,\n",
       "                       min_weight_fraction_leaf=0.0, n_estimators=200,\n",
       "                       n_jobs=None, oob_score=False, random_state=None,\n",
       "                       verbose=0, warm_start=False)"
      ]
     },
     "execution_count": 9,
     "metadata": {},
     "output_type": "execute_result"
    }
   ],
   "source": [
    "from sklearn.ensemble import RandomForestClassifier\n",
    "rf = RandomForestClassifier(n_estimators=200)\n",
    "rf = rf.fit(X_train_scaled, y_train)\n",
    "y_pred = rf.predict(X_test_scaled)\n",
    "rf"
   ]
  },
  {
   "cell_type": "code",
   "execution_count": 25,
   "metadata": {},
   "outputs": [
    {
     "name": "stdout",
     "output_type": "stream",
     "text": [
      "k: 1, Train/Test Score: 0.936/0.805\n",
      "k: 2, Train/Test Score: 0.916/0.776\n",
      "k: 4, Train/Test Score: 0.973/0.839\n",
      "k: 8, Train/Test Score: 0.992/0.866\n",
      "k: 16, Train/Test Score: 0.998/0.886\n",
      "k: 32, Train/Test Score: 0.999/0.895\n",
      "k: 64, Train/Test Score: 1.000/0.900\n",
      "k: 100, Train/Test Score: 1.000/0.896\n",
      "k: 200, Train/Test Score: 1.000/0.896\n"
     ]
    }
   ],
   "source": [
    "estimators = [1, 2, 4, 8, 16, 32, 64, 100, 200]\n",
    "train_scores = []\n",
    "test_scores = []\n",
    "for k in estimators:\n",
    "    rf = RandomForestClassifier(n_estimators=k)\n",
    "    rf = rf.fit(X_train_scaled, y_train)\n",
    "    train_score = rf.score(X_train_scaled, y_train)\n",
    "    test_score = rf.score(X_test_scaled, y_test)\n",
    "    train_scores.append(train_score)\n",
    "    test_scores.append(test_score)\n",
    "    print(f\"k: {k}, Train/Test Score: {train_score:.3f}/{test_score:.3f}\")   \n"
   ]
  },
  {
   "cell_type": "code",
   "execution_count": 35,
   "metadata": {},
   "outputs": [
    {
     "data": {
      "image/png": "[encoded data removed]",
      "text/plain": [
       "<Figure size 432x288 with 1 Axes>"
      ]
     },
     "metadata": {
      "needs_background": "light"
     },
     "output_type": "display_data"
    }
   ],
   "source": [
    "plt.plot(estimators, train_scores, marker='o')\n",
    "plt.plot(estimators, test_scores, marker=\"x\")\n",
    "plt.xlabel(\"n_estimators\")\n",
    "plt.ylabel(\"Testing accuracy Score\")\n",
    "plt.show()"
   ]
  },
  {
   "cell_type": "code",
   "execution_count": 15,
   "metadata": {},
   "outputs": [
    {
     "data": {
      "text/plain": [
       "[(0.1065810053549102, 'koi_fpflag_co'),\n",
       " (0.09873297458213538, 'koi_fpflag_nt'),\n",
       " (0.06607391195077339, 'koi_fpflag_ss'),\n",
       " (0.05394859513626379, 'koi_prad'),\n",
       " (0.05179081148034818, 'koi_model_snr'),\n",
       " (0.03614134869407979, 'koi_duration_err1'),\n",
       " (0.03569050651577158, 'koi_steff_err1'),\n",
       " (0.03494481155656362, 'koi_fpflag_ec'),\n",
       " (0.034457341945997304, 'koi_duration_err2'),\n",
       " (0.028502861031919225, 'koi_prad_err2'),\n",
       " (0.027488711261215076, 'koi_prad_err1'),\n",
       " (0.02608462391501385, 'koi_steff_err2'),\n",
       " (0.02292945543810813, 'koi_time0bk_err2'),\n",
       " (0.0228474638812222, 'koi_duration'),\n",
       " (0.022550495738227618, 'koi_time0bk_err1'),\n",
       " (0.022189110691330623, 'koi_period'),\n",
       " (0.022101299240706064, 'koi_depth'),\n",
       " (0.020768694748467705, 'koi_insol_err1'),\n",
       " (0.018721277120411512, 'koi_period_err2'),\n",
       " (0.018310481260186903, 'koi_impact'),\n",
       " (0.01772894385745083, 'koi_period_err1'),\n",
       " (0.016578678276498643, 'koi_teq'),\n",
       " (0.016203380663646193, 'koi_insol'),\n",
       " (0.014827251694336492, 'koi_insol_err2'),\n",
       " (0.013286260064814797, 'koi_depth_err2'),\n",
       " (0.013239359877719634, 'koi_depth_err1'),\n",
       " (0.012537138388306772, 'koi_time0bk'),\n",
       " (0.012252626080501547, 'ra'),\n",
       " (0.011322256713832777, 'koi_impact_err1'),\n",
       " (0.011063911283370144, 'dec'),\n",
       " (0.01094774693777966, 'koi_impact_err2'),\n",
       " (0.010745923770013028, 'koi_srad_err1'),\n",
       " (0.010559734259750965, 'koi_slogg_err2'),\n",
       " (0.010353231432262602, 'koi_kepmag'),\n",
       " (0.009691680639232099, 'koi_steff'),\n",
       " (0.009533211008247262, 'koi_srad'),\n",
       " (0.008864302157911626, 'koi_slogg'),\n",
       " (0.008397221430192748, 'koi_slogg_err1'),\n",
       " (0.008286275037758063, 'koi_srad_err2'),\n",
       " (0.0027250848827220075, 'koi_tce_plnt_num')]"
      ]
     },
     "execution_count": 15,
     "metadata": {},
     "output_type": "execute_result"
    }
   ],
   "source": [
    "importances = rf.feature_importances_\n",
    "sorted(zip(rf.feature_importances_, selected_features), reverse=True)"
   ]
  },
  {
   "cell_type": "code",
   "execution_count": 39,
   "metadata": {},
   "outputs": [
    {
     "name": "stdout",
     "output_type": "stream",
     "text": [
      "max_depth: 1.0, Train/Test Score: 0.506/0.488\n",
      "max_depth: 2.0, Train/Test Score: 0.694/0.685\n",
      "max_depth: 3.0, Train/Test Score: 0.841/0.827\n",
      "max_depth: 4.0, Train/Test Score: 0.865/0.856\n",
      "max_depth: 5.0, Train/Test Score: 0.875/0.858\n",
      "max_depth: 6.0, Train/Test Score: 0.887/0.870\n",
      "max_depth: 7.0, Train/Test Score: 0.896/0.878\n",
      "max_depth: 8.0, Train/Test Score: 0.908/0.885\n",
      "max_depth: 9.0, Train/Test Score: 0.919/0.888\n",
      "max_depth: 10.0, Train/Test Score: 0.932/0.894\n",
      "max_depth: 11.0, Train/Test Score: 0.944/0.893\n",
      "max_depth: 12.0, Train/Test Score: 0.958/0.894\n",
      "max_depth: 13.0, Train/Test Score: 0.966/0.899\n",
      "max_depth: 14.0, Train/Test Score: 0.976/0.896\n",
      "max_depth: 15.0, Train/Test Score: 0.981/0.896\n",
      "max_depth: 16.0, Train/Test Score: 0.986/0.899\n",
      "max_depth: 17.0, Train/Test Score: 0.990/0.899\n",
      "max_depth: 18.0, Train/Test Score: 0.993/0.902\n",
      "max_depth: 19.0, Train/Test Score: 0.995/0.900\n",
      "max_depth: 20.0, Train/Test Score: 0.997/0.895\n",
      "max_depth: 21.0, Train/Test Score: 0.997/0.899\n",
      "max_depth: 22.0, Train/Test Score: 0.999/0.900\n",
      "max_depth: 23.0, Train/Test Score: 0.999/0.900\n",
      "max_depth: 24.0, Train/Test Score: 1.000/0.899\n",
      "max_depth: 25.0, Train/Test Score: 1.000/0.898\n",
      "max_depth: 26.0, Train/Test Score: 1.000/0.900\n",
      "max_depth: 27.0, Train/Test Score: 1.000/0.897\n",
      "max_depth: 28.0, Train/Test Score: 1.000/0.900\n",
      "max_depth: 29.0, Train/Test Score: 1.000/0.893\n",
      "max_depth: 30.0, Train/Test Score: 1.000/0.902\n",
      "max_depth: 31.0, Train/Test Score: 1.000/0.895\n",
      "max_depth: 32.0, Train/Test Score: 1.000/0.898\n"
     ]
    },
    {
     "data": {
      "image/png": "[encoded data removed]",
      "text/plain": [
       "<Figure size 432x288 with 1 Axes>"
      ]
     },
     "metadata": {
      "needs_background": "light"
     },
     "output_type": "display_data"
    }
   ],
   "source": [
    "max_depths = np.linspace(1, 32, 32, endpoint=True)\n",
    "train_scores = []\n",
    "test_scores = []\n",
    "for max_depth in max_depths:\n",
    "    rf = RandomForestClassifier(max_depth=max_depth, n_jobs=-1)\n",
    "    rf = rf.fit(X_train_scaled, y_train)\n",
    "    train_score = rf.score(X_train_scaled, y_train)\n",
    "    test_score = rf.score(X_test_scaled, y_test)\n",
    "    train_scores.append(train_score)\n",
    "    test_scores.append(test_score)\n",
    "    print(f\"max_depth: {max_depth}, Train/Test Score: {train_score:.3f}/{test_score:.3f}\")  \n",
    "    \n",
    "plt.plot(max_depths, train_scores, marker='o')\n",
    "plt.plot(max_depths, test_scores, marker=\"x\")\n",
    "plt.xlabel(\"n_estimators\")\n",
    "plt.ylabel(\"Testing accuracy Score\")\n",
    "plt.show()"
   ]
  },
  {
   "cell_type": "code",
   "execution_count": null,
   "metadata": {},
   "outputs": [],
   "source": []
  },
  {
   "cell_type": "code",
   "execution_count": 41,
   "metadata": {},
   "outputs": [
    {
     "name": "stdout",
     "output_type": "stream",
     "text": [
      "Testing Data Score: 0.8930205949656751\n"
     ]
    }
   ],
   "source": [
    "print(f\"Testing Data Score: {rf.score(X_test_scaled, y_test)}\")"
   ]
  },
  {
   "cell_type": "code",
   "execution_count": 13,
   "metadata": {},
   "outputs": [
    {
     "data": {
      "text/html": [
       "<div>\n",
       "<style scoped>\n",
       "    .dataframe tbody tr th:only-of-type {\n",
       "        vertical-align: middle;\n",
       "    }\n",
       "\n",
       "    .dataframe tbody tr th {\n",
       "        vertical-align: top;\n",
       "    }\n",
       "\n",
       "    .dataframe thead th {\n",
       "        text-align: right;\n",
       "    }\n",
       "</style>\n",
       "<table border=\"1\" class=\"dataframe\">\n",
       "  <thead>\n",
       "    <tr style=\"text-align: right;\">\n",
       "      <th></th>\n",
       "      <th>Prediction</th>\n",
       "      <th>Actual</th>\n",
       "    </tr>\n",
       "  </thead>\n",
       "  <tbody>\n",
       "    <tr>\n",
       "      <th>4982</th>\n",
       "      <td>FALSE POSITIVE</td>\n",
       "      <td>FALSE POSITIVE</td>\n",
       "    </tr>\n",
       "    <tr>\n",
       "      <th>4866</th>\n",
       "      <td>CANDIDATE</td>\n",
       "      <td>CANDIDATE</td>\n",
       "    </tr>\n",
       "    <tr>\n",
       "      <th>2934</th>\n",
       "      <td>FALSE POSITIVE</td>\n",
       "      <td>FALSE POSITIVE</td>\n",
       "    </tr>\n",
       "    <tr>\n",
       "      <th>5007</th>\n",
       "      <td>FALSE POSITIVE</td>\n",
       "      <td>FALSE POSITIVE</td>\n",
       "    </tr>\n",
       "    <tr>\n",
       "      <th>3869</th>\n",
       "      <td>FALSE POSITIVE</td>\n",
       "      <td>FALSE POSITIVE</td>\n",
       "    </tr>\n",
       "    <tr>\n",
       "      <th>...</th>\n",
       "      <td>...</td>\n",
       "      <td>...</td>\n",
       "    </tr>\n",
       "    <tr>\n",
       "      <th>4006</th>\n",
       "      <td>CANDIDATE</td>\n",
       "      <td>CANDIDATE</td>\n",
       "    </tr>\n",
       "    <tr>\n",
       "      <th>6985</th>\n",
       "      <td>CANDIDATE</td>\n",
       "      <td>CANDIDATE</td>\n",
       "    </tr>\n",
       "    <tr>\n",
       "      <th>1468</th>\n",
       "      <td>CONFIRMED</td>\n",
       "      <td>CONFIRMED</td>\n",
       "    </tr>\n",
       "    <tr>\n",
       "      <th>5138</th>\n",
       "      <td>CANDIDATE</td>\n",
       "      <td>CONFIRMED</td>\n",
       "    </tr>\n",
       "    <tr>\n",
       "      <th>2770</th>\n",
       "      <td>CANDIDATE</td>\n",
       "      <td>CONFIRMED</td>\n",
       "    </tr>\n",
       "  </tbody>\n",
       "</table>\n",
       "<p>1748 rows × 2 columns</p>\n",
       "</div>"
      ],
      "text/plain": [
       "          Prediction          Actual\n",
       "4982  FALSE POSITIVE  FALSE POSITIVE\n",
       "4866       CANDIDATE       CANDIDATE\n",
       "2934  FALSE POSITIVE  FALSE POSITIVE\n",
       "5007  FALSE POSITIVE  FALSE POSITIVE\n",
       "3869  FALSE POSITIVE  FALSE POSITIVE\n",
       "...              ...             ...\n",
       "4006       CANDIDATE       CANDIDATE\n",
       "6985       CANDIDATE       CANDIDATE\n",
       "1468       CONFIRMED       CONFIRMED\n",
       "5138       CANDIDATE       CONFIRMED\n",
       "2770       CANDIDATE       CONFIRMED\n",
       "\n",
       "[1748 rows x 2 columns]"
      ]
     },
     "execution_count": 13,
     "metadata": {},
     "output_type": "execute_result"
    }
   ],
   "source": [
    "predictions = rf.predict(X_test_scaled)\n",
    "pd.DataFrame({\"Prediction\": predictions, \"Actual\": y_test})"
   ]
  },
  {
   "cell_type": "markdown",
   "metadata": {},
   "source": [
    "# Train the Model\n",
    "\n"
   ]
  },
  {
   "cell_type": "code",
   "execution_count": null,
   "metadata": {},
   "outputs": [],
   "source": [
    "print(f\"Training Data Score: {model2.score(X_train_scaled, y_train)}\")\n",
    "print(f\"Testing Data Score: {model2.score(X_test_scaled, y_test)}\")"
   ]
  },
  {
   "cell_type": "markdown",
   "metadata": {},
   "source": [
    "# Hyperparameter Tuning\n",
    "\n",
    "Use `GridSearchCV` to tune the model's parameters"
   ]
  },
  {
   "cell_type": "code",
   "execution_count": 43,
   "metadata": {},
   "outputs": [],
   "source": [
    "# Create the GridSearchCV model\n",
    "from sklearn.model_selection import GridSearchCV\n",
    "\n",
    "\n",
    "param_grid = {'n_estimators': [32, 64, 100],\n",
    "              'max_depth': [16,17,18,19,20]}\n",
    "grid = GridSearchCV(rf, param_grid, verbose=3)"
   ]
  },
  {
   "cell_type": "code",
   "execution_count": 45,
   "metadata": {},
   "outputs": [
    {
     "name": "stdout",
     "output_type": "stream",
     "text": [
      "Fitting 5 folds for each of 15 candidates, totalling 75 fits\n",
      "[CV] max_depth=16, n_estimators=32 ...................................\n"
     ]
    },
    {
     "name": "stderr",
     "output_type": "stream",
     "text": [
      "[Parallel(n_jobs=1)]: Using backend SequentialBackend with 1 concurrent workers.\n"
     ]
    },
    {
     "name": "stdout",
     "output_type": "stream",
     "text": [
      "[CV] ....... max_depth=16, n_estimators=32, score=0.897, total=   0.8s\n",
      "[CV] max_depth=16, n_estimators=32 ...................................\n"
     ]
    },
    {
     "name": "stderr",
     "output_type": "stream",
     "text": [
      "[Parallel(n_jobs=1)]: Done   1 out of   1 | elapsed:    0.7s remaining:    0.0s\n"
     ]
    },
    {
     "name": "stdout",
     "output_type": "stream",
     "text": [
      "[CV] ....... max_depth=16, n_estimators=32, score=0.903, total=   0.7s\n",
      "[CV] max_depth=16, n_estimators=32 ...................................\n"
     ]
    },
    {
     "name": "stderr",
     "output_type": "stream",
     "text": [
      "[Parallel(n_jobs=1)]: Done   2 out of   2 | elapsed:    1.4s remaining:    0.0s\n"
     ]
    },
    {
     "name": "stdout",
     "output_type": "stream",
     "text": [
      "[CV] ....... max_depth=16, n_estimators=32, score=0.886, total=   0.8s\n",
      "[CV] max_depth=16, n_estimators=32 ...................................\n",
      "[CV] ....... max_depth=16, n_estimators=32, score=0.877, total=   0.7s\n",
      "[CV] max_depth=16, n_estimators=32 ...................................\n",
      "[CV] ....... max_depth=16, n_estimators=32, score=0.882, total=   0.7s\n",
      "[CV] max_depth=16, n_estimators=64 ...................................\n",
      "[CV] ....... max_depth=16, n_estimators=64, score=0.905, total=   1.5s\n",
      "[CV] max_depth=16, n_estimators=64 ...................................\n",
      "[CV] ....... max_depth=16, n_estimators=64, score=0.900, total=   1.5s\n",
      "[CV] max_depth=16, n_estimators=64 ...................................\n",
      "[CV] ....... max_depth=16, n_estimators=64, score=0.884, total=   1.4s\n",
      "[CV] max_depth=16, n_estimators=64 ...................................\n",
      "[CV] ....... max_depth=16, n_estimators=64, score=0.880, total=   1.4s\n",
      "[CV] max_depth=16, n_estimators=64 ...................................\n",
      "[CV] ....... max_depth=16, n_estimators=64, score=0.881, total=   1.4s\n",
      "[CV] max_depth=16, n_estimators=100 ..................................\n",
      "[CV] ...... max_depth=16, n_estimators=100, score=0.907, total=   2.1s\n",
      "[CV] max_depth=16, n_estimators=100 ..................................\n",
      "[CV] ...... max_depth=16, n_estimators=100, score=0.907, total=   2.1s\n",
      "[CV] max_depth=16, n_estimators=100 ..................................\n",
      "[CV] ...... max_depth=16, n_estimators=100, score=0.886, total=   2.1s\n",
      "[CV] max_depth=16, n_estimators=100 ..................................\n",
      "[CV] ...... max_depth=16, n_estimators=100, score=0.877, total=   2.2s\n",
      "[CV] max_depth=16, n_estimators=100 ..................................\n",
      "[CV] ...... max_depth=16, n_estimators=100, score=0.880, total=   2.3s\n",
      "[CV] max_depth=17, n_estimators=32 ...................................\n",
      "[CV] ....... max_depth=17, n_estimators=32, score=0.904, total=   0.7s\n",
      "[CV] max_depth=17, n_estimators=32 ...................................\n",
      "[CV] ....... max_depth=17, n_estimators=32, score=0.899, total=   0.7s\n",
      "[CV] max_depth=17, n_estimators=32 ...................................\n",
      "[CV] ....... max_depth=17, n_estimators=32, score=0.875, total=   0.7s\n",
      "[CV] max_depth=17, n_estimators=32 ...................................\n",
      "[CV] ....... max_depth=17, n_estimators=32, score=0.878, total=   0.7s\n",
      "[CV] max_depth=17, n_estimators=32 ...................................\n",
      "[CV] ....... max_depth=17, n_estimators=32, score=0.877, total=   0.7s\n",
      "[CV] max_depth=17, n_estimators=64 ...................................\n",
      "[CV] ....... max_depth=17, n_estimators=64, score=0.902, total=   1.4s\n",
      "[CV] max_depth=17, n_estimators=64 ...................................\n",
      "[CV] ....... max_depth=17, n_estimators=64, score=0.911, total=   1.6s\n",
      "[CV] max_depth=17, n_estimators=64 ...................................\n",
      "[CV] ....... max_depth=17, n_estimators=64, score=0.882, total=   1.5s\n",
      "[CV] max_depth=17, n_estimators=64 ...................................\n",
      "[CV] ....... max_depth=17, n_estimators=64, score=0.880, total=   1.4s\n",
      "[CV] max_depth=17, n_estimators=64 ...................................\n",
      "[CV] ....... max_depth=17, n_estimators=64, score=0.881, total=   1.5s\n",
      "[CV] max_depth=17, n_estimators=100 ..................................\n",
      "[CV] ...... max_depth=17, n_estimators=100, score=0.903, total=   2.3s\n",
      "[CV] max_depth=17, n_estimators=100 ..................................\n",
      "[CV] ...... max_depth=17, n_estimators=100, score=0.903, total=   2.4s\n",
      "[CV] max_depth=17, n_estimators=100 ..................................\n",
      "[CV] ...... max_depth=17, n_estimators=100, score=0.888, total=   2.2s\n",
      "[CV] max_depth=17, n_estimators=100 ..................................\n",
      "[CV] ...... max_depth=17, n_estimators=100, score=0.879, total=   2.4s\n",
      "[CV] max_depth=17, n_estimators=100 ..................................\n",
      "[CV] ...... max_depth=17, n_estimators=100, score=0.878, total=   2.6s\n",
      "[CV] max_depth=18, n_estimators=32 ...................................\n",
      "[CV] ....... max_depth=18, n_estimators=32, score=0.902, total=   0.9s\n",
      "[CV] max_depth=18, n_estimators=32 ...................................\n",
      "[CV] ....... max_depth=18, n_estimators=32, score=0.905, total=   0.8s\n",
      "[CV] max_depth=18, n_estimators=32 ...................................\n",
      "[CV] ....... max_depth=18, n_estimators=32, score=0.882, total=   0.8s\n",
      "[CV] max_depth=18, n_estimators=32 ...................................\n",
      "[CV] ....... max_depth=18, n_estimators=32, score=0.875, total=   0.7s\n",
      "[CV] max_depth=18, n_estimators=32 ...................................\n",
      "[CV] ....... max_depth=18, n_estimators=32, score=0.879, total=   0.7s\n",
      "[CV] max_depth=18, n_estimators=64 ...................................\n",
      "[CV] ....... max_depth=18, n_estimators=64, score=0.898, total=   1.6s\n",
      "[CV] max_depth=18, n_estimators=64 ...................................\n",
      "[CV] ....... max_depth=18, n_estimators=64, score=0.900, total=   1.4s\n",
      "[CV] max_depth=18, n_estimators=64 ...................................\n",
      "[CV] ....... max_depth=18, n_estimators=64, score=0.888, total=   1.5s\n",
      "[CV] max_depth=18, n_estimators=64 ...................................\n",
      "[CV] ....... max_depth=18, n_estimators=64, score=0.884, total=   1.4s\n",
      "[CV] max_depth=18, n_estimators=64 ...................................\n",
      "[CV] ....... max_depth=18, n_estimators=64, score=0.884, total=   1.4s\n",
      "[CV] max_depth=18, n_estimators=100 ..................................\n",
      "[CV] ...... max_depth=18, n_estimators=100, score=0.903, total=   2.2s\n",
      "[CV] max_depth=18, n_estimators=100 ..................................\n",
      "[CV] ...... max_depth=18, n_estimators=100, score=0.907, total=   2.4s\n",
      "[CV] max_depth=18, n_estimators=100 ..................................\n",
      "[CV] ...... max_depth=18, n_estimators=100, score=0.885, total=   2.3s\n",
      "[CV] max_depth=18, n_estimators=100 ..................................\n",
      "[CV] ...... max_depth=18, n_estimators=100, score=0.882, total=   2.2s\n",
      "[CV] max_depth=18, n_estimators=100 ..................................\n",
      "[CV] ...... max_depth=18, n_estimators=100, score=0.889, total=   2.2s\n",
      "[CV] max_depth=19, n_estimators=32 ...................................\n",
      "[CV] ....... max_depth=19, n_estimators=32, score=0.901, total=   0.7s\n",
      "[CV] max_depth=19, n_estimators=32 ...................................\n",
      "[CV] ....... max_depth=19, n_estimators=32, score=0.908, total=   0.7s\n",
      "[CV] max_depth=19, n_estimators=32 ...................................\n",
      "[CV] ....... max_depth=19, n_estimators=32, score=0.889, total=   0.7s\n",
      "[CV] max_depth=19, n_estimators=32 ...................................\n",
      "[CV] ....... max_depth=19, n_estimators=32, score=0.875, total=   0.7s\n",
      "[CV] max_depth=19, n_estimators=32 ...................................\n",
      "[CV] ....... max_depth=19, n_estimators=32, score=0.880, total=   0.8s\n",
      "[CV] max_depth=19, n_estimators=64 ...................................\n",
      "[CV] ....... max_depth=19, n_estimators=64, score=0.897, total=   1.4s\n",
      "[CV] max_depth=19, n_estimators=64 ...................................\n",
      "[CV] ....... max_depth=19, n_estimators=64, score=0.901, total=   1.4s\n",
      "[CV] max_depth=19, n_estimators=64 ...................................\n",
      "[CV] ....... max_depth=19, n_estimators=64, score=0.879, total=   1.4s\n",
      "[CV] max_depth=19, n_estimators=64 ...................................\n",
      "[CV] ....... max_depth=19, n_estimators=64, score=0.885, total=   1.4s\n",
      "[CV] max_depth=19, n_estimators=64 ...................................\n",
      "[CV] ....... max_depth=19, n_estimators=64, score=0.888, total=   1.4s\n",
      "[CV] max_depth=19, n_estimators=100 ..................................\n",
      "[CV] ...... max_depth=19, n_estimators=100, score=0.895, total=   2.2s\n",
      "[CV] max_depth=19, n_estimators=100 ..................................\n",
      "[CV] ...... max_depth=19, n_estimators=100, score=0.908, total=   2.2s\n",
      "[CV] max_depth=19, n_estimators=100 ..................................\n",
      "[CV] ...... max_depth=19, n_estimators=100, score=0.883, total=   2.2s\n",
      "[CV] max_depth=19, n_estimators=100 ..................................\n",
      "[CV] ...... max_depth=19, n_estimators=100, score=0.878, total=   2.2s\n",
      "[CV] max_depth=19, n_estimators=100 ..................................\n",
      "[CV] ...... max_depth=19, n_estimators=100, score=0.876, total=   2.2s\n",
      "[CV] max_depth=20, n_estimators=32 ...................................\n"
     ]
    },
    {
     "name": "stdout",
     "output_type": "stream",
     "text": [
      "[CV] ....... max_depth=20, n_estimators=32, score=0.898, total=   0.7s\n",
      "[CV] max_depth=20, n_estimators=32 ...................................\n",
      "[CV] ....... max_depth=20, n_estimators=32, score=0.906, total=   0.7s\n",
      "[CV] max_depth=20, n_estimators=32 ...................................\n",
      "[CV] ....... max_depth=20, n_estimators=32, score=0.883, total=   0.7s\n",
      "[CV] max_depth=20, n_estimators=32 ...................................\n",
      "[CV] ....... max_depth=20, n_estimators=32, score=0.878, total=   0.7s\n",
      "[CV] max_depth=20, n_estimators=32 ...................................\n",
      "[CV] ....... max_depth=20, n_estimators=32, score=0.874, total=   0.7s\n",
      "[CV] max_depth=20, n_estimators=64 ...................................\n",
      "[CV] ....... max_depth=20, n_estimators=64, score=0.903, total=   1.4s\n",
      "[CV] max_depth=20, n_estimators=64 ...................................\n",
      "[CV] ....... max_depth=20, n_estimators=64, score=0.902, total=   1.4s\n",
      "[CV] max_depth=20, n_estimators=64 ...................................\n",
      "[CV] ....... max_depth=20, n_estimators=64, score=0.887, total=   1.5s\n",
      "[CV] max_depth=20, n_estimators=64 ...................................\n",
      "[CV] ....... max_depth=20, n_estimators=64, score=0.875, total=   1.5s\n",
      "[CV] max_depth=20, n_estimators=64 ...................................\n",
      "[CV] ....... max_depth=20, n_estimators=64, score=0.880, total=   1.4s\n",
      "[CV] max_depth=20, n_estimators=100 ..................................\n",
      "[CV] ...... max_depth=20, n_estimators=100, score=0.903, total=   2.2s\n",
      "[CV] max_depth=20, n_estimators=100 ..................................\n",
      "[CV] ...... max_depth=20, n_estimators=100, score=0.904, total=   2.2s\n",
      "[CV] max_depth=20, n_estimators=100 ..................................\n",
      "[CV] ...... max_depth=20, n_estimators=100, score=0.884, total=   2.7s\n",
      "[CV] max_depth=20, n_estimators=100 ..................................\n",
      "[CV] ...... max_depth=20, n_estimators=100, score=0.886, total=   2.3s\n",
      "[CV] max_depth=20, n_estimators=100 ..................................\n",
      "[CV] ...... max_depth=20, n_estimators=100, score=0.887, total=   2.6s\n"
     ]
    },
    {
     "name": "stderr",
     "output_type": "stream",
     "text": [
      "[Parallel(n_jobs=1)]: Done  75 out of  75 | elapsed:  1.9min finished\n"
     ]
    },
    {
     "data": {
      "text/plain": [
       "GridSearchCV(cv=None, error_score=nan,\n",
       "             estimator=RandomForestClassifier(bootstrap=True, ccp_alpha=0.0,\n",
       "                                              class_weight=None,\n",
       "                                              criterion='gini', max_depth=18,\n",
       "                                              max_features='auto',\n",
       "                                              max_leaf_nodes=None,\n",
       "                                              max_samples=None,\n",
       "                                              min_impurity_decrease=0.0,\n",
       "                                              min_impurity_split=None,\n",
       "                                              min_samples_leaf=1,\n",
       "                                              min_samples_split=2,\n",
       "                                              min_weight_fraction_leaf=0.0,\n",
       "                                              n_estimators=64, n_jobs=None,\n",
       "                                              oob_score=False,\n",
       "                                              random_state=None, verbose=0,\n",
       "                                              warm_start=False),\n",
       "             iid='deprecated', n_jobs=None,\n",
       "             param_grid={'max_depth': [16, 17, 18, 19, 20],\n",
       "                         'n_estimators': [32, 64, 100]},\n",
       "             pre_dispatch='2*n_jobs', refit=True, return_train_score=False,\n",
       "             scoring=None, verbose=3)"
      ]
     },
     "execution_count": 45,
     "metadata": {},
     "output_type": "execute_result"
    }
   ],
   "source": [
    "# Train the model with GridSearch\n",
    "grid.fit(X_train_scaled, y_train)"
   ]
  },
  {
   "cell_type": "code",
   "execution_count": 46,
   "metadata": {},
   "outputs": [
    {
     "name": "stdout",
     "output_type": "stream",
     "text": [
      "{'max_depth': 18, 'n_estimators': 100}\n",
      "0.892997329335827\n"
     ]
    }
   ],
   "source": [
    "print(grid.best_params_)\n",
    "print(grid.best_score_)"
   ]
  },
  {
   "cell_type": "markdown",
   "metadata": {},
   "source": [
    "# Save the Model"
   ]
  },
  {
   "cell_type": "code",
   "execution_count": 49,
   "metadata": {},
   "outputs": [
    {
     "data": {
      "text/plain": [
       "['BeLacy.sav']"
      ]
     },
     "execution_count": 49,
     "metadata": {},
     "output_type": "execute_result"
    }
   ],
   "source": [
    "# save your model by updating \"your_name\" with your name\n",
    "# and \"your_model\" with your model variable\n",
    "# be sure to turn this in to BCS\n",
    "# if joblib fails to import, try running the command to install in terminal/git-bash\n",
    "import joblib\n",
    "filename = 'BeLacy.sav'\n",
    "joblib.dump(rf, filename)"
   ]
  },
  {
   "cell_type": "code",
   "execution_count": null,
   "metadata": {},
   "outputs": [],
   "source": []
  }
 ],
 "metadata": {
  "kernel_info": {
   "name": "dev"
  },
  "kernelspec": {
   "display_name": "Python 3",
   "language": "python",
   "name": "python3"
  },
  "language_info": {
   "codemirror_mode": {
    "name": "ipython",
    "version": 3
   },
   "file_extension": ".py",
   "mimetype": "text/x-python",
   "name": "python",
   "nbconvert_exporter": "python",
   "pygments_lexer": "ipython3",
   "version": "3.7.6"
  },
  "nteract": {
   "version": "0.12.3"
  }
 },
 "nbformat": 4,
 "nbformat_minor": 2
}
